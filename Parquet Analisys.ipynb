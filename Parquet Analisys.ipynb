{
 "cells": [
  {
   "cell_type": "code",
   "execution_count": 0,
   "metadata": {
    "application/vnd.databricks.v1+cell": {
     "cellMetadata": {
      "byteLimit": 2048000,
      "rowLimit": 10000
     },
     "inputWidgets": {},
     "nuid": "d0ad7fc9-1b1a-4a0c-813d-f06066c80128",
     "showTitle": true,
     "title": "Creating a Dataframe"
    }
   },
   "outputs": [
    {
     "output_type": "stream",
     "name": "stdout",
     "output_type": "stream",
     "text": [
      "+-------------+-----------+-------------+---------+------+-------+\n|Primeiro_Nome|Ultimo_nome|Nacionalidade| Trabalho|Genero|Salario|\n+-------------+-----------+-------------+---------+------+-------+\n|     Grimaldo|   Oliveira|   Brasileira|Professor|     M|   3000|\n|         Ana |     Santos|   Portuguesa|    Atriz|     F|   4000|\n|      Roberto|     Carlos|   Brasileira| Analista|     M|   4000|\n|        Maria|   Santanna|     Italiana| Dentista|     F|   6000|\n|        Jeane|    Andrade|      Inglesa|   Medica|     F|   7000|\n+-------------+-----------+-------------+---------+------+-------+\n\n"
     ]
    }
   ],
   "source": [
    "%python\n",
    "dados = [\n",
    "(\"Grimaldo\",\"Oliveira\",\"Brasileira\",\"Professor\",\"M\",3000),\n",
    "(\"Ana \",\"Santos\",\"Portuguesa\",\"Atriz\",\"F\",4000),\n",
    "(\"Roberto\",\"Carlos\",\"Brasileira\",\"Analista\",\"M\",4000),\n",
    "(\"Maria\",\"Santanna\",\"Italiana\",\"Dentista\",\"F\",6000),\n",
    "(\"Jeane\",\"Andrade\",\"Inglesa\",\"Medica\",\"F\",7000)]\n",
    "\n",
    "colunas=[\"Primeiro_Nome\",\"Ultimo_nome\",\"Nacionalidade\",\"Trabalho\",\"Genero\",\"Salario\"]\n",
    "\n",
    "datafparquet=spark.createDataFrame(dados,colunas)\n",
    "datafparquet.show()"
   ]
  },
  {
   "cell_type": "code",
   "execution_count": 0,
   "metadata": {
    "application/vnd.databricks.v1+cell": {
     "cellMetadata": {
      "byteLimit": 2048000,
      "rowLimit": 10000
     },
     "inputWidgets": {},
     "nuid": "e2f20c03-795b-477c-8af2-81b3c6bb4612",
     "showTitle": true,
     "title": "Creating the Parquet file"
    }
   },
   "outputs": [],
   "source": [
    "datafparquet.write.parquet(\"/FileStore/tables/parquet/pessoal.parquet\")\n"
   ]
  },
  {
   "cell_type": "code",
   "execution_count": 0,
   "metadata": {
    "application/vnd.databricks.v1+cell": {
     "cellMetadata": {
      "byteLimit": 2048000,
      "rowLimit": 10000
     },
     "inputWidgets": {},
     "nuid": "d66ed667-3b6a-4d6d-bff7-dcd6238b98f1",
     "showTitle": true,
     "title": "Updating the file"
    }
   },
   "outputs": [],
   "source": [
    "datafparquet.write.mode('overwrite').parquet('/FileStore/tables/parquet/pessoal.parquet')\n"
   ]
  },
  {
   "cell_type": "code",
   "execution_count": 0,
   "metadata": {
    "application/vnd.databricks.v1+cell": {
     "cellMetadata": {
      "byteLimit": 2048000,
      "rowLimit": 10000
     },
     "inputWidgets": {},
     "nuid": "e7ee58bd-8dd3-4028-a548-e0958a7c448b",
     "showTitle": true,
     "title": "Once Parquet file created, now reading it back as a dataframe for data manipulation"
    }
   },
   "outputs": [
    {
     "output_type": "stream",
     "name": "stdout",
     "output_type": "stream",
     "text": [
      "+-------------+-----------+-------------+---------+------+-------+\n|Primeiro_Nome|Ultimo_nome|Nacionalidade| Trabalho|Genero|Salario|\n+-------------+-----------+-------------+---------+------+-------+\n|     Grimaldo|   Oliveira|   Brasileira|Professor|     M|   3000|\n|      Roberto|     Carlos|   Brasileira| Analista|     M|   4000|\n|        Maria|   Santanna|     Italiana| Dentista|     F|   6000|\n|         Ana |     Santos|   Portuguesa|    Atriz|     F|   4000|\n|        Jeane|    Andrade|      Inglesa|   Medica|     F|   7000|\n+-------------+-----------+-------------+---------+------+-------+\n\n"
     ]
    }
   ],
   "source": [
    "datafleitura= spark.read.parquet(\"/FileStore/tables/parquet/pessoal.parquet\")\n",
    "datafleitura.show()\n"
   ]
  },
  {
   "cell_type": "code",
   "execution_count": 0,
   "metadata": {
    "application/vnd.databricks.v1+cell": {
     "cellMetadata": {
      "byteLimit": 2048000,
      "rowLimit": 10000
     },
     "inputWidgets": {},
     "nuid": "645c6223-d198-4bf5-a9f9-92e92739a4ba",
     "showTitle": true,
     "title": "With the dataframe, reading it as SQL for ease manipulation"
    }
   },
   "outputs": [
    {
     "output_type": "stream",
     "name": "stdout",
     "output_type": "stream",
     "text": [
      "+-------------+-----------+-------------+--------+------+-------+\n|Primeiro_Nome|Ultimo_nome|Nacionalidade|Trabalho|Genero|Salario|\n+-------------+-----------+-------------+--------+------+-------+\n|        Maria|   Santanna|     Italiana|Dentista|     F|   6000|\n|        Jeane|    Andrade|   Portuguesa|  Medica|     F|   7000|\n+-------------+-----------+-------------+--------+------+-------+\n\n"
     ]
    }
   ],
   "source": [
    "datafleitura.createOrReplaceTempView(\"Tabela_Parquet\")\n",
    "ResultSQL = spark.sql(\"select * from Tabela_Parquet where salario >= 6000 \")\n",
    "ResultSQL.show()"
   ]
  },
  {
   "cell_type": "code",
   "execution_count": 0,
   "metadata": {
    "application/vnd.databricks.v1+cell": {
     "cellMetadata": {},
     "inputWidgets": {},
     "nuid": "18cf3a36-dedc-4732-82b5-66b9f665ad9d",
     "showTitle": false,
     "title": ""
    }
   },
   "outputs": [],
   "source": []
  }
 ],
 "metadata": {
  "application/vnd.databricks.v1+notebook": {
   "dashboards": [],
   "environmentMetadata": null,
   "language": "python",
   "notebookMetadata": {
    "pythonIndentUnit": 4
   },
   "notebookName": "Parquet Analisys",
   "widgets": {}
  }
 },
 "nbformat": 4,
 "nbformat_minor": 0
}
