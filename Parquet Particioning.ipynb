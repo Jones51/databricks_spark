{
 "cells": [
  {
   "cell_type": "code",
   "execution_count": 0,
   "metadata": {
    "application/vnd.databricks.v1+cell": {
     "cellMetadata": {
      "byteLimit": 2048000,
      "rowLimit": 10000
     },
     "inputWidgets": {},
     "nuid": "d4dc74b9-994e-4486-b834-6989ec4ce159",
     "showTitle": false,
     "title": ""
    }
   },
   "outputs": [
    {
     "output_type": "stream",
     "name": "stdout",
     "output_type": "stream",
     "text": [
      "+-------------+-----------+-------------+---------+------+-------+\n|Primeiro_Nome|Ultimo_nome|Nacionalidade| Trabalho|Genero|Salario|\n+-------------+-----------+-------------+---------+------+-------+\n|     Grimaldo|   Oliveira|   Brasileira|Professor|     M|   3000|\n|         Ana |     Santos|   Portuguesa|    Atriz|     F|   4000|\n|      Roberto|     Carlos|   Brasileira| Analista|     M|   4000|\n|        Maria|   Santanna|     Italiana| Dentista|     F|   6000|\n|        Jeane|    Andrade|      Inglesa|   Medica|     F|   7000|\n+-------------+-----------+-------------+---------+------+-------+\n\n"
     ]
    }
   ],
   "source": [
    "%python\n",
    "dados = [\n",
    "(\"Grimaldo\",\"Oliveira\",\"Brasileira\",\"Professor\",\"M\",3000),\n",
    "(\"Ana \",\"Santos\",\"Portuguesa\",\"Atriz\",\"F\",4000),\n",
    "(\"Roberto\",\"Carlos\",\"Brasileira\",\"Analista\",\"M\",4000),\n",
    "(\"Maria\",\"Santanna\",\"Italiana\",\"Dentista\",\"F\",6000),\n",
    "(\"Jeane\",\"Andrade\",\"Inglesa\",\"Medica\",\"F\",7000)]\n",
    "\n",
    "colunas=[\"Primeiro_Nome\",\"Ultimo_nome\",\"Nacionalidade\",\"Trabalho\",\"Genero\",\"Salario\"]\n",
    "\n",
    "datafparquet=spark.createDataFrame(dados,colunas)\n",
    "datafparquet.show()"
   ]
  },
  {
   "cell_type": "code",
   "execution_count": 0,
   "metadata": {
    "application/vnd.databricks.v1+cell": {
     "cellMetadata": {
      "byteLimit": 2048000,
      "rowLimit": 10000
     },
     "inputWidgets": {},
     "nuid": "a0417509-08c3-4cd7-91db-d8c139b2abe2",
     "showTitle": true,
     "title": "Splitting files"
    }
   },
   "outputs": [],
   "source": [
    "datafparquet.write.partitionBy(\"Nacionalidade\",\"salario\").mode(\"overwrite\").parquet(\"/FileStore/tables/parquet/pessoal.parquet\")\n"
   ]
  },
  {
   "cell_type": "code",
   "execution_count": 0,
   "metadata": {
    "application/vnd.databricks.v1+cell": {
     "cellMetadata": {
      "byteLimit": 2048000,
      "rowLimit": 10000
     },
     "inputWidgets": {},
     "nuid": "8745c69d-ad1d-46fd-acd2-676ba2f16098",
     "showTitle": true,
     "title": "Showing only the data  \"Nacionalidade=Brasileira\""
    }
   },
   "outputs": [
    {
     "output_type": "stream",
     "name": "stdout",
     "output_type": "stream",
     "text": [
      "+-------------+-----------+---------+------+-------+\n|Primeiro_Nome|Ultimo_nome|Trabalho |Genero|salario|\n+-------------+-----------+---------+------+-------+\n|Grimaldo     |Oliveira   |Professor|M     |3000   |\n|Roberto      |Carlos     |Analista |M     |4000   |\n+-------------+-----------+---------+------+-------+\n\n"
     ]
    }
   ],
   "source": [
    "datafnacional=spark.read.parquet(\"/FileStore/tables/parquet/pessoal.parquet/Nacionalidade=Brasileira\")\n",
    "datafnacional.show(truncate=False)\n"
   ]
  },
  {
   "cell_type": "code",
   "execution_count": 0,
   "metadata": {
    "application/vnd.databricks.v1+cell": {
     "cellMetadata": {
      "byteLimit": 2048000,
      "rowLimit": 10000
     },
     "inputWidgets": {},
     "nuid": "43b13844-b62d-4ed4-a6dc-e30b4ac284b7",
     "showTitle": true,
     "title": "Using SQL to read the parquet files"
    }
   },
   "outputs": [
    {
     "output_type": "stream",
     "name": "stdout",
     "output_type": "stream",
     "text": [
      "+-------------+-----------+---------+------+-------+\n|Primeiro_Nome|Ultimo_nome| Trabalho|Genero|salario|\n+-------------+-----------+---------+------+-------+\n|     Grimaldo|   Oliveira|Professor|     M|   3000|\n+-------------+-----------+---------+------+-------+\n\n"
     ]
    }
   ],
   "source": [
    "spark.sql(\"CREATE OR REPLACE TEMPORARY VIEW Cidadao USING parquet OPTIONS (path \\\"/FileStore/tables/parquet/pessoal.parquet/Nacionalidade=Brasileira\\\")\")\n",
    "spark.sql(\"SELECT * FROM Cidadao where Ultimo_nome='Oliveira'\").show()"
   ]
  },
  {
   "cell_type": "code",
   "execution_count": 0,
   "metadata": {
    "application/vnd.databricks.v1+cell": {
     "cellMetadata": {},
     "inputWidgets": {},
     "nuid": "ee9f68b8-3eeb-47a3-976f-c73a98a1b04e",
     "showTitle": false,
     "title": ""
    }
   },
   "outputs": [],
   "source": []
  }
 ],
 "metadata": {
  "application/vnd.databricks.v1+notebook": {
   "dashboards": [],
   "environmentMetadata": null,
   "language": "python",
   "notebookMetadata": {
    "pythonIndentUnit": 4
   },
   "notebookName": "Parquet Particioning",
   "widgets": {}
  }
 },
 "nbformat": 4,
 "nbformat_minor": 0
}
